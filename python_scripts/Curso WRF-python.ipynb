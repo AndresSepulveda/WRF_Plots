{
 "cells": [
  {
   "cell_type": "markdown",
   "metadata": {
    "slideshow": {
     "slide_type": "slide"
    }
   },
   "source": [
    "# Curso WRF-python\n",
    "\n",
    "Gonzalo Zigarán\n",
    "\n",
    "_gjzigaran@gmail.com_\n",
    "\n",
    "#### Links:\n",
    "* https://github.com/NCAR/wrf-python/\n",
    "* https://github.com/NCAR/wrf_python_tutorial/"
   ]
  },
  {
   "cell_type": "markdown",
   "metadata": {
    "slideshow": {
     "slide_type": "slide"
    }
   },
   "source": [
    "## Temas:\n",
    "1. Introducción a las librerías (python, jupyter notebooks, numpy, pandas, xarray)\n",
    "1. Cómo leer una salida de WRF \n",
    "1. wrf-python\n",
    "1. Librerías para graficar (matplotlib, basemap)\n",
    "1. Ejemplos"
   ]
  },
  {
   "cell_type": "markdown",
   "metadata": {
    "slideshow": {
     "slide_type": "slide"
    }
   },
   "source": [
    "### 1. Introducción a las librerías\n",
    "\n",
    "#### Python\n",
    "\n",
    "- Lenguaje de programación relativamente nuevo y con gran crecimiento\n",
    "- Es interpretado \n",
    "- Licencia de código abierto\n",
    "- De alto nivel, lo que posibilita que su código sea muy legible.\n",
    "- Gran cantidad de documentación y comunidad de usuarios\n",
    "\n"
   ]
  },
  {
   "cell_type": "markdown",
   "metadata": {
    "slideshow": {
     "slide_type": "slide"
    }
   },
   "source": [
    "#### Jupyter Notebook\n",
    "\n",
    "Es una aplicación web de codigo abierto que permite crear documentos que combinan código, visualizaciones y texto, además de ejecutar el código. Originalmente estaba pensado para el intérprete IPython pero ahora también permite trabajar con otros lenguajes como Julia, R, Octave."
   ]
  },
  {
   "cell_type": "markdown",
   "metadata": {
    "slideshow": {
     "slide_type": "slide"
    }
   },
   "source": [
    "#### Numpy\n",
    "\n",
    "NumPy es un paquete para computación científica con Python. Le agrega un mayor soporte para el trabajo con vectores y matrices eficientemente, integrado con C y Fortran.\n",
    "\n",
    "Los arreglos de numpy pueden ser creados con los tipos comunes de C:\n",
    "- int8, int16, int32, int64 \n",
    "- float16, float32, float64 [default]\n",
    "- bool\n",
    "- complex64, complex128\n",
    "y pueden ser ordenados como en C (más rápido de acceder a derecha, por defecto) o como en Fortran (más rápido de acceder a izquierda)\n",
    "\n",
    "##### Ejemplo de uso:"
   ]
  },
  {
   "cell_type": "code",
   "execution_count": 1,
   "metadata": {
    "slideshow": {
     "slide_type": "subslide"
    }
   },
   "outputs": [
    {
     "name": "stdout",
     "output_type": "stream",
     "text": [
      "[[[ 0.  5.  0.]\n",
      "  [ 0.  0.  0.]\n",
      "  [ 0.  0.  0.]]\n",
      "\n",
      " [[ 0.  0.  0.]\n",
      "  [ 0.  0.  0.]\n",
      "  [ 0.  0.  0.]]\n",
      "\n",
      " [[ 0.  0.  0.]\n",
      "  [ 0.  0.  0.]\n",
      "  [ 0.  0.  0.]]]\n",
      "0.0\n",
      "[ 0.  5.  0.]\n"
     ]
    }
   ],
   "source": [
    "import numpy as np\n",
    "\n",
    "# crea un un arreglo tri-dimensional de ceros\n",
    "my_array = np.zeros((3,3,3), \"float32\")\n",
    "\n",
    "# acceder a un elemento\n",
    "first_element = my_array[0,0,0]\n",
    "\n",
    "# editar un elemento\n",
    "my_array[0,0,1] = 5\n",
    "\n",
    "# acceder a una fila\n",
    "first_row = my_array[0,0,:]\n",
    "\n",
    "print my_array\n",
    "print first_element\n",
    "print first_row"
   ]
  },
  {
   "cell_type": "markdown",
   "metadata": {},
   "source": [
    "\n",
    "#### Pandas\n",
    "\n",
    "Pandas es una librería que proporciona alto rendimiento para el análisis y estructura de datos. Es fácil e intuitivo de usar y conbina muchas funciones con NumPy. (Gran reemplazo del excel)\n",
    "\n",
    "##### Ejemplo de uso:\n"
   ]
  },
  {
   "cell_type": "code",
   "execution_count": 2,
   "metadata": {},
   "outputs": [
    {
     "data": {
      "text/html": [
       "<div>\n",
       "<style scoped>\n",
       "    .dataframe tbody tr th:only-of-type {\n",
       "        vertical-align: middle;\n",
       "    }\n",
       "\n",
       "    .dataframe tbody tr th {\n",
       "        vertical-align: top;\n",
       "    }\n",
       "\n",
       "    .dataframe thead th {\n",
       "        text-align: right;\n",
       "    }\n",
       "</style>\n",
       "<table border=\"1\" class=\"dataframe\">\n",
       "  <thead>\n",
       "    <tr style=\"text-align: right;\">\n",
       "      <th></th>\n",
       "      <th>one</th>\n",
       "      <th>two</th>\n",
       "    </tr>\n",
       "  </thead>\n",
       "  <tbody>\n",
       "    <tr>\n",
       "      <th>a</th>\n",
       "      <td>1.0</td>\n",
       "      <td>1.0</td>\n",
       "    </tr>\n",
       "    <tr>\n",
       "      <th>b</th>\n",
       "      <td>2.0</td>\n",
       "      <td>2.0</td>\n",
       "    </tr>\n",
       "    <tr>\n",
       "      <th>c</th>\n",
       "      <td>3.0</td>\n",
       "      <td>3.0</td>\n",
       "    </tr>\n",
       "    <tr>\n",
       "      <th>d</th>\n",
       "      <td>NaN</td>\n",
       "      <td>4.0</td>\n",
       "    </tr>\n",
       "  </tbody>\n",
       "</table>\n",
       "</div>"
      ],
      "text/plain": [
       "   one  two\n",
       "a  1.0  1.0\n",
       "b  2.0  2.0\n",
       "c  3.0  3.0\n",
       "d  NaN  4.0"
      ]
     },
     "execution_count": 2,
     "metadata": {},
     "output_type": "execute_result"
    }
   ],
   "source": [
    "import pandas as pd\n",
    "\n",
    "d = {'one' : pd.Series([1., 2., 3.], index=['a', 'b', 'c']),\n",
    "     'two' : pd.Series([1., 2., 3., 4.], index=['a', 'b', 'c', 'd'])} \n",
    "\n",
    "df = pd.DataFrame(d)\n",
    "\n",
    "\n",
    "df"
   ]
  },
  {
   "cell_type": "code",
   "execution_count": 3,
   "metadata": {},
   "outputs": [
    {
     "data": {
      "text/html": [
       "<div>\n",
       "<style scoped>\n",
       "    .dataframe tbody tr th:only-of-type {\n",
       "        vertical-align: middle;\n",
       "    }\n",
       "\n",
       "    .dataframe tbody tr th {\n",
       "        vertical-align: top;\n",
       "    }\n",
       "\n",
       "    .dataframe thead th {\n",
       "        text-align: right;\n",
       "    }\n",
       "</style>\n",
       "<table border=\"1\" class=\"dataframe\">\n",
       "  <thead>\n",
       "    <tr style=\"text-align: right;\">\n",
       "      <th></th>\n",
       "      <th>one</th>\n",
       "      <th>two</th>\n",
       "    </tr>\n",
       "  </thead>\n",
       "  <tbody>\n",
       "    <tr>\n",
       "      <th>a</th>\n",
       "      <td>1</td>\n",
       "      <td>1</td>\n",
       "    </tr>\n",
       "    <tr>\n",
       "      <th>b</th>\n",
       "      <td>2</td>\n",
       "      <td>2</td>\n",
       "    </tr>\n",
       "    <tr>\n",
       "      <th>c</th>\n",
       "      <td>3</td>\n",
       "      <td>3</td>\n",
       "    </tr>\n",
       "    <tr>\n",
       "      <th>d</th>\n",
       "      <td>NaN</td>\n",
       "      <td>4</td>\n",
       "    </tr>\n",
       "  </tbody>\n",
       "</table>\n",
       "</div>"
      ],
      "text/plain": [
       "   one two\n",
       "a    1   1\n",
       "b    2   2\n",
       "c    3   3\n",
       "d  NaN   4"
      ]
     },
     "execution_count": 3,
     "metadata": {},
     "output_type": "execute_result"
    }
   ],
   "source": [
    "df2 = pd.DataFrame(columns=['one','two'])\n",
    "\n",
    "df2.loc['a'] = [1,1]\n",
    "df2.loc['b'] = [2,2]\n",
    "df2.loc['c'] = [3,3]\n",
    "df2.loc['d', 'two'] = 4\n",
    "\n",
    "df2"
   ]
  },
  {
   "cell_type": "code",
   "execution_count": 4,
   "metadata": {},
   "outputs": [
    {
     "data": {
      "text/plain": [
       "a    1\n",
       "b    2\n",
       "c    3\n",
       "d    4\n",
       "Name: two, dtype: object"
      ]
     },
     "execution_count": 4,
     "metadata": {},
     "output_type": "execute_result"
    }
   ],
   "source": [
    "df2['two']"
   ]
  },
  {
   "cell_type": "markdown",
   "metadata": {},
   "source": [
    "\n",
    "#### xarray\n",
    "\n",
    "Librería que buscar profundizar Pandas para poder trabajar con estructuras de datos más complejas. En particular trabaja con estructuras similares al formato NetCDF. Basicamente busca complejizar la estructura de arreglos de Numpy con metadatos.\n",
    "\n",
    "##### Ejemplo de uso:\n"
   ]
  },
  {
   "cell_type": "code",
   "execution_count": 5,
   "metadata": {},
   "outputs": [
    {
     "name": "stdout",
     "output_type": "stream",
     "text": [
      "<xarray.DataArray 'my_xarray' (bottom_top: 3, south_north: 3, west_east: 3)>\n",
      "array([[[ 0.,  0.,  0.],\n",
      "        [ 0.,  0.,  0.],\n",
      "        [ 0.,  0.,  0.]],\n",
      "\n",
      "       [[ 0.,  0.,  0.],\n",
      "        [ 0.,  0.,  0.],\n",
      "        [ 0.,  0.,  0.]],\n",
      "\n",
      "       [[ 0.,  0.,  0.],\n",
      "        [ 0.,  0.,  0.],\n",
      "        [ 0.,  0.,  0.]]], dtype=float32)\n",
      "Coordinates:\n",
      "  * south_north  (south_north) float64 40.0 50.0 60.0\n",
      "  * west_east    (west_east) float64 -120.0 -110.0 -100.0\n",
      "  * bottom_top   (bottom_top) float64 100.0 200.0 300.0\n",
      "Attributes:\n",
      "    info:     This is my xarray\n"
     ]
    }
   ],
   "source": [
    "import numpy as np\n",
    "import xarray\n",
    "\n",
    "my_array = np.zeros((3,3,3), \"float32\")\n",
    "\n",
    "# Nobre de dimensiones y coordenadas\n",
    "\n",
    "my_name = \"my_xarray\"\n",
    "\n",
    "my_dims = [\"bottom_top\", \"south_north\", \"west_east\"]\n",
    "\n",
    "my_coords = {\"bottom_top\" : [100., 200., 300.],\n",
    "          \"south_north\": [40., 50., 60.],\n",
    "          \"west_east\" : [-120., -110., -100.]\n",
    "         }\n",
    "\n",
    "my_attrs = {\"info\" : \"This is my xarray\"}\n",
    "\n",
    "my_xarray = xarray.DataArray(my_array,\n",
    "                           name=my_name,\n",
    "                           dims=my_dims, \n",
    "                           coords=my_coords, \n",
    "                           attrs=my_attrs)\n",
    "\n",
    "print (my_xarray)"
   ]
  },
  {
   "cell_type": "markdown",
   "metadata": {},
   "source": [
    "### 2. Cómo leer una salida de WRF \n",
    "\n",
    "El archivo que devuelve el WRF tiene el formato NetCDF y contiene toda la información relativa a la simulación. Basicamente se destacan 3 secciones a tener en cuenta: \n",
    "\n",
    "- La primera son datos globales propios del archivo, como puede ser la fecha de inicio, la versión utilizada de WRF, la resolución, la proyección usada, etc.\n",
    "\n",
    "- La segunda son las dimensiones, tanto de la grilla, de la resolución vertical, y del tiempo\n",
    "\n",
    "- Y la tercera son las variables.\n",
    "\n",
    "Hay varias alternativas de programas para analizar un NetCDF (como por ejemplo ncdump, ncl_filedump, netcdf4-python, PyNIO, xarray, etc), algunos en Python y otros directamente por terminal.\n",
    "\n",
    "\n",
    "\n",
    "#### netcdf4-python\n",
    "\n",
    "Vamos a utilizar **netcdf4-python**, para poder verlo directamente desde la consola de Python. \n",
    "\n",
    "\n",
    "##### Datos globales\n",
    "\n",
    "Una vez cargada la salida del WRF, se pueden listar todos los datos globales con * .\\__dict\\__ * , o también accediendo a cada variable particularmente con * .NOMBRE_VARIABLE *"
   ]
  },
  {
   "cell_type": "code",
   "execution_count": 6,
   "metadata": {},
   "outputs": [
    {
     "data": {
      "text/plain": [
       "u'2017-10-26_00:00:00'"
      ]
     },
     "execution_count": 6,
     "metadata": {},
     "output_type": "execute_result"
    }
   ],
   "source": [
    "from netCDF4 import Dataset\n",
    "\n",
    "nc_file = Dataset(\"wrfout_d01_2017-10-26_00:00:00\")\n",
    "\n",
    "nc_file.START_DATE"
   ]
  },
  {
   "cell_type": "code",
   "execution_count": 7,
   "metadata": {},
   "outputs": [
    {
     "data": {
      "text/plain": [
       "OrderedDict([(u'TITLE', u' OUTPUT FROM WRF V3.8 MODEL'),\n",
       "             (u'START_DATE', u'2017-10-26_00:00:00'),\n",
       "             (u'SIMULATION_START_DATE', u'2017-10-26_00:00:00'),\n",
       "             (u'WEST-EAST_GRID_DIMENSION', 100),\n",
       "             (u'SOUTH-NORTH_GRID_DIMENSION', 170),\n",
       "             (u'BOTTOM-TOP_GRID_DIMENSION', 35),\n",
       "             (u'DX', 30000.0),\n",
       "             (u'DY', 30000.0),\n",
       "             (u'SKEBS_ON', 0),\n",
       "             (u'SPEC_BDY_FINAL_MU', 1),\n",
       "             (u'USE_Q_DIABATIC', 0),\n",
       "             (u'GRIDTYPE', u'C'),\n",
       "             (u'DIFF_OPT', 1),\n",
       "             (u'KM_OPT', 4),\n",
       "             (u'DAMP_OPT', 0),\n",
       "             (u'DAMPCOEF', 0.2),\n",
       "             (u'KHDIF', 0.0),\n",
       "             (u'KVDIF', 0.0),\n",
       "             (u'MP_PHYSICS', 4),\n",
       "             (u'RA_LW_PHYSICS', 1),\n",
       "             (u'RA_SW_PHYSICS', 1),\n",
       "             (u'SF_SFCLAY_PHYSICS', 1),\n",
       "             (u'SF_SURFACE_PHYSICS', 2),\n",
       "             (u'BL_PBL_PHYSICS', 1),\n",
       "             (u'CU_PHYSICS', 5),\n",
       "             (u'SF_LAKE_PHYSICS', 0),\n",
       "             (u'SURFACE_INPUT_SOURCE', 3),\n",
       "             (u'SST_UPDATE', 0),\n",
       "             (u'GRID_FDDA', 0),\n",
       "             (u'GFDDA_INTERVAL_M', 0),\n",
       "             (u'GFDDA_END_H', 0),\n",
       "             (u'GRID_SFDDA', 0),\n",
       "             (u'SGFDDA_INTERVAL_M', 0),\n",
       "             (u'SGFDDA_END_H', 0),\n",
       "             (u'HYPSOMETRIC_OPT', 2),\n",
       "             (u'USE_THETA_M', 0),\n",
       "             (u'SF_URBAN_PHYSICS', 0),\n",
       "             (u'SHCU_PHYSICS', 0),\n",
       "             (u'MFSHCONV', 0),\n",
       "             (u'FEEDBACK', 1),\n",
       "             (u'SMOOTH_OPTION', 0),\n",
       "             (u'SWRAD_SCAT', 1.0),\n",
       "             (u'W_DAMPING', 0),\n",
       "             (u'DT', 150.0),\n",
       "             (u'RADT', 30.0),\n",
       "             (u'BLDT', 0.0),\n",
       "             (u'CUDT', 5.0),\n",
       "             (u'AER_OPT', 0),\n",
       "             (u'SWINT_OPT', 0),\n",
       "             (u'AER_TYPE', 1),\n",
       "             (u'AER_AOD550_OPT', 1),\n",
       "             (u'AER_ANGEXP_OPT', 1),\n",
       "             (u'AER_SSA_OPT', 1),\n",
       "             (u'AER_ASY_OPT', 1),\n",
       "             (u'AER_AOD550_VAL', 0.12),\n",
       "             (u'AER_ANGEXP_VAL', 1.3),\n",
       "             (u'AER_SSA_VAL', 1.4012985e-45),\n",
       "             (u'AER_ASY_VAL', 1.4012985e-45),\n",
       "             (u'MOIST_ADV_OPT', 1),\n",
       "             (u'SCALAR_ADV_OPT', 1),\n",
       "             (u'TKE_ADV_OPT', 1),\n",
       "             (u'DIFF_6TH_OPT', 0),\n",
       "             (u'DIFF_6TH_FACTOR', 0.12),\n",
       "             (u'OBS_NUDGE_OPT', 0),\n",
       "             (u'BUCKET_MM', -1.0),\n",
       "             (u'BUCKET_J', -1.0),\n",
       "             (u'PREC_ACC_DT', 0.0),\n",
       "             (u'SF_OCEAN_PHYSICS', 0),\n",
       "             (u'ISFTCFLX', 0),\n",
       "             (u'ISHALLOW', 0),\n",
       "             (u'ISFFLX', 1),\n",
       "             (u'ICLOUD', 1),\n",
       "             (u'ICLOUD_CU', 0),\n",
       "             (u'TRACER_PBLMIX', 1),\n",
       "             (u'SCALAR_PBLMIX', 0),\n",
       "             (u'YSU_TOPDOWN_PBLMIX', 0),\n",
       "             (u'GRAV_SETTLING', 0),\n",
       "             (u'DFI_OPT', 0),\n",
       "             (u'SIMULATION_INITIALIZATION_TYPE', u'REAL-DATA CASE'),\n",
       "             (u'WEST-EAST_PATCH_START_UNSTAG', 1),\n",
       "             (u'WEST-EAST_PATCH_END_UNSTAG', 99),\n",
       "             (u'WEST-EAST_PATCH_START_STAG', 1),\n",
       "             (u'WEST-EAST_PATCH_END_STAG', 100),\n",
       "             (u'SOUTH-NORTH_PATCH_START_UNSTAG', 1),\n",
       "             (u'SOUTH-NORTH_PATCH_END_UNSTAG', 169),\n",
       "             (u'SOUTH-NORTH_PATCH_START_STAG', 1),\n",
       "             (u'SOUTH-NORTH_PATCH_END_STAG', 170),\n",
       "             (u'BOTTOM-TOP_PATCH_START_UNSTAG', 1),\n",
       "             (u'BOTTOM-TOP_PATCH_END_UNSTAG', 34),\n",
       "             (u'BOTTOM-TOP_PATCH_START_STAG', 1),\n",
       "             (u'BOTTOM-TOP_PATCH_END_STAG', 35),\n",
       "             (u'GRID_ID', 1),\n",
       "             (u'PARENT_ID', 1),\n",
       "             (u'I_PARENT_START', 1),\n",
       "             (u'J_PARENT_START', 1),\n",
       "             (u'PARENT_GRID_RATIO', 1),\n",
       "             (u'CEN_LAT', -38.500008),\n",
       "             (u'CEN_LON', -63.5),\n",
       "             (u'TRUELAT1', -60.0),\n",
       "             (u'TRUELAT2', -30.0),\n",
       "             (u'MOAD_CEN_LAT', -38.500008),\n",
       "             (u'STAND_LON', -63.5),\n",
       "             (u'POLE_LAT', 90.0),\n",
       "             (u'POLE_LON', 0.0),\n",
       "             (u'GMT', 0.0),\n",
       "             (u'JULYR', 2017),\n",
       "             (u'JULDAY', 299),\n",
       "             (u'MAP_PROJ', 1),\n",
       "             (u'MAP_PROJ_CHAR', u'Lambert Conformal'),\n",
       "             (u'MMINLU', u'MODIFIED_IGBP_MODIS_NOAH'),\n",
       "             (u'NUM_LAND_CAT', 21),\n",
       "             (u'ISWATER', 17),\n",
       "             (u'ISLAKE', 21),\n",
       "             (u'ISICE', 15),\n",
       "             (u'ISURBAN', 13),\n",
       "             (u'ISOILWATER', 14)])"
      ]
     },
     "execution_count": 7,
     "metadata": {},
     "output_type": "execute_result"
    }
   ],
   "source": [
    "nc_file.__dict__"
   ]
  },
  {
   "cell_type": "markdown",
   "metadata": {},
   "source": [
    "##### Dimensiones\n",
    "\n",
    "La grilla que utiliza WRF se compone de la siguiente manera:\n",
    "\n",
    "![..](wrf_stagger.png)\n",
    "\n",
    "- Las variables se conputan en los * mass points * que se ubican en el centro de la celda\n",
    "- La componente u del viento se calcula en el limite derecho e izquierdo de la celda. En esta dirección se guarda un punto más.\n",
    "- La componente v del viento se calcula en el limite superior e inferior de la celda. En esta dirección se guarda un punto más.\n",
    "- Las esquinas de la celda son los * staggered points * , tiene un punto más en cada dirección. \n",
    "\n",
    "\n",
    "[link a wrf grid structure del sitio de mmm](http://www2.mmm.ucar.edu/rt/amps/information/configuration/wrf_grid_structure.html)"
   ]
  },
  {
   "cell_type": "code",
   "execution_count": 8,
   "metadata": {},
   "outputs": [
    {
     "data": {
      "text/plain": [
       "OrderedDict([(u'Time',\n",
       "              <type 'netCDF4._netCDF4.Dimension'> (unlimited): name = 'Time', size = 25),\n",
       "             (u'DateStrLen',\n",
       "              <type 'netCDF4._netCDF4.Dimension'>: name = 'DateStrLen', size = 19),\n",
       "             (u'west_east',\n",
       "              <type 'netCDF4._netCDF4.Dimension'>: name = 'west_east', size = 99),\n",
       "             (u'south_north',\n",
       "              <type 'netCDF4._netCDF4.Dimension'>: name = 'south_north', size = 169),\n",
       "             (u'bottom_top',\n",
       "              <type 'netCDF4._netCDF4.Dimension'>: name = 'bottom_top', size = 34),\n",
       "             (u'bottom_top_stag',\n",
       "              <type 'netCDF4._netCDF4.Dimension'>: name = 'bottom_top_stag', size = 35),\n",
       "             (u'soil_layers_stag',\n",
       "              <type 'netCDF4._netCDF4.Dimension'>: name = 'soil_layers_stag', size = 4),\n",
       "             (u'west_east_stag',\n",
       "              <type 'netCDF4._netCDF4.Dimension'>: name = 'west_east_stag', size = 100),\n",
       "             (u'south_north_stag',\n",
       "              <type 'netCDF4._netCDF4.Dimension'>: name = 'south_north_stag', size = 170)])"
      ]
     },
     "execution_count": 8,
     "metadata": {},
     "output_type": "execute_result"
    }
   ],
   "source": [
    "nc_file.dimensions"
   ]
  },
  {
   "cell_type": "markdown",
   "metadata": {},
   "source": [
    "##### Variables\n",
    "\n",
    "Esta estructura es la más compleja. Se pueden listar todas las variables y para cada una se almacena la siguiente estructura:\n",
    "\n",
    "- atributos (datos generales de la variable, como unidad, coordenadas, descripción, etc)\n",
    "- dimensiones (toma alguna de las dimensiones vistas antes)\n",
    "- valores (los valores que toma para cada dimension)\n"
   ]
  },
  {
   "cell_type": "code",
   "execution_count": 9,
   "metadata": {},
   "outputs": [
    {
     "data": {
      "text/plain": [
       "[u'Times',\n",
       " u'XLAT',\n",
       " u'XLONG',\n",
       " u'LU_INDEX',\n",
       " u'ZNU',\n",
       " u'ZNW',\n",
       " u'ZS',\n",
       " u'DZS',\n",
       " u'VAR_SSO',\n",
       " u'U',\n",
       " u'V',\n",
       " u'W',\n",
       " u'PH',\n",
       " u'PHB',\n",
       " u'T',\n",
       " u'HFX_FORCE',\n",
       " u'LH_FORCE',\n",
       " u'TSK_FORCE',\n",
       " u'HFX_FORCE_TEND',\n",
       " u'LH_FORCE_TEND',\n",
       " u'TSK_FORCE_TEND',\n",
       " u'MU',\n",
       " u'MUB',\n",
       " u'NEST_POS',\n",
       " u'P',\n",
       " u'PB',\n",
       " u'FNM',\n",
       " u'FNP',\n",
       " u'RDNW',\n",
       " u'RDN',\n",
       " u'DNW',\n",
       " u'DN',\n",
       " u'CFN',\n",
       " u'CFN1',\n",
       " u'THIS_IS_AN_IDEAL_RUN',\n",
       " u'P_HYD',\n",
       " u'Q2',\n",
       " u'T2',\n",
       " u'TH2',\n",
       " u'PSFC',\n",
       " u'U10',\n",
       " u'V10',\n",
       " u'RDX',\n",
       " u'RDY',\n",
       " u'RESM',\n",
       " u'ZETATOP',\n",
       " u'CF1',\n",
       " u'CF2',\n",
       " u'CF3',\n",
       " u'ITIMESTEP',\n",
       " u'XTIME',\n",
       " u'QVAPOR',\n",
       " u'QCLOUD',\n",
       " u'QRAIN',\n",
       " u'QICE',\n",
       " u'QSNOW',\n",
       " u'SHDMAX',\n",
       " u'SHDMIN',\n",
       " u'SNOALB',\n",
       " u'TSLB',\n",
       " u'SMOIS',\n",
       " u'SH2O',\n",
       " u'SMCREL',\n",
       " u'SEAICE',\n",
       " u'XICEM',\n",
       " u'SFROFF',\n",
       " u'UDROFF',\n",
       " u'IVGTYP',\n",
       " u'ISLTYP',\n",
       " u'VEGFRA',\n",
       " u'GRDFLX',\n",
       " u'ACGRDFLX',\n",
       " u'ACSNOM',\n",
       " u'SNOW',\n",
       " u'SNOWH',\n",
       " u'CANWAT',\n",
       " u'SSTSK',\n",
       " u'COSZEN',\n",
       " u'LAI',\n",
       " u'DTAUX3D',\n",
       " u'DTAUY3D',\n",
       " u'DUSFCG',\n",
       " u'DVSFCG',\n",
       " u'VAR',\n",
       " u'CON',\n",
       " u'OA1',\n",
       " u'OA2',\n",
       " u'OA3',\n",
       " u'OA4',\n",
       " u'OL1',\n",
       " u'OL2',\n",
       " u'OL3',\n",
       " u'OL4',\n",
       " u'MAPFAC_M',\n",
       " u'MAPFAC_U',\n",
       " u'MAPFAC_V',\n",
       " u'MAPFAC_MX',\n",
       " u'MAPFAC_MY',\n",
       " u'MAPFAC_UX',\n",
       " u'MAPFAC_UY',\n",
       " u'MAPFAC_VX',\n",
       " u'MF_VX_INV',\n",
       " u'MAPFAC_VY',\n",
       " u'F',\n",
       " u'E',\n",
       " u'SINALPHA',\n",
       " u'COSALPHA',\n",
       " u'HGT',\n",
       " u'TSK',\n",
       " u'P_TOP',\n",
       " u'T00',\n",
       " u'P00',\n",
       " u'TLP',\n",
       " u'TISO',\n",
       " u'TLP_STRAT',\n",
       " u'P_STRAT',\n",
       " u'MAX_MSTFX',\n",
       " u'MAX_MSTFY',\n",
       " u'RAINC',\n",
       " u'RAINSH',\n",
       " u'RAINNC',\n",
       " u'SNOWNC',\n",
       " u'GRAUPELNC',\n",
       " u'HAILNC',\n",
       " u'CLDFRA',\n",
       " u'SWDOWN',\n",
       " u'GLW',\n",
       " u'SWNORM',\n",
       " u'OLR',\n",
       " u'XLAT_U',\n",
       " u'XLONG_U',\n",
       " u'XLAT_V',\n",
       " u'XLONG_V',\n",
       " u'ALBEDO',\n",
       " u'CLAT',\n",
       " u'ALBBCK',\n",
       " u'EMISS',\n",
       " u'NOAHRES',\n",
       " u'TMN',\n",
       " u'XLAND',\n",
       " u'UST',\n",
       " u'PBLH',\n",
       " u'HFX',\n",
       " u'QFX',\n",
       " u'LH',\n",
       " u'ACHFX',\n",
       " u'ACLHF',\n",
       " u'SNOWC',\n",
       " u'SR',\n",
       " u'SAVE_TOPO_FROM_REAL',\n",
       " u'ISEEDARR_RAND_PERTURB',\n",
       " u'ISEEDARR_SPPT',\n",
       " u'ISEEDARR_SKEBS',\n",
       " u'LANDMASK',\n",
       " u'LAKEMASK',\n",
       " u'SST',\n",
       " u'SST_INPUT']"
      ]
     },
     "execution_count": 9,
     "metadata": {},
     "output_type": "execute_result"
    }
   ],
   "source": [
    "# Para listar todos los nombres de variables posibles\n",
    "nc_file.variables.keys()"
   ]
  },
  {
   "cell_type": "code",
   "execution_count": 47,
   "metadata": {},
   "outputs": [
    {
     "data": {
      "text/plain": [
       "OrderedDict([(u'FieldType', 104),\n",
       "             (u'MemoryOrder', u'XYZ'),\n",
       "             (u'description',\n",
       "              u'perturbation potential temperature (theta-t0)'),\n",
       "             (u'units', u'K'),\n",
       "             (u'stagger', u''),\n",
       "             (u'coordinates', u'XLONG XLAT XTIME')])"
      ]
     },
     "execution_count": 47,
     "metadata": {},
     "output_type": "execute_result"
    }
   ],
   "source": [
    "# Para listar los atributos de una variable\n",
    "nc_file.variables['T'].__dict__"
   ]
  },
  {
   "cell_type": "code",
   "execution_count": 11,
   "metadata": {},
   "outputs": [
    {
     "data": {
      "text/plain": [
       "(u'Time', u'bottom_top', u'south_north', u'west_east')"
      ]
     },
     "execution_count": 11,
     "metadata": {},
     "output_type": "execute_result"
    }
   ],
   "source": [
    "# Para listar las dimensiones de una variable\n",
    "nc_file.variables['T'].dimensions"
   ]
  },
  {
   "cell_type": "code",
   "execution_count": 12,
   "metadata": {
    "scrolled": true
   },
   "outputs": [
    {
     "data": {
      "text/plain": [
       "array([[[ 277.00924683,  277.08822632,  277.03015137, ...,  272.36404419,\n",
       "          272.39993286,  272.48239136],\n",
       "        [ 277.13763428,  277.19869995,  277.15005493, ...,  272.50149536,\n",
       "          272.51889038,  272.57196045],\n",
       "        [ 277.28149414,  277.3343811 ,  277.32974243, ...,  272.5993042 ,\n",
       "          272.64575195,  272.74957275],\n",
       "        ..., \n",
       "        [ 289.23294067,  289.30737305,  289.34954834, ...,  302.21768188,\n",
       "          303.20321655,  303.7890625 ],\n",
       "        [ 289.36206055,  289.27319336,  288.97393799, ...,  302.25457764,\n",
       "          304.13796997,  305.05462646],\n",
       "        [ 289.2762146 ,  288.85748291,  288.65142822, ...,  302.10943604,\n",
       "          303.84197998,  304.87857056]],\n",
       "\n",
       "       [[ 276.92785645,  277.03341675,  276.98690796, ...,  272.20181274,\n",
       "          272.21914673,  272.29986572],\n",
       "        [ 277.10531616,  277.20437622,  277.15264893, ...,  272.2911377 ,\n",
       "          272.32626343,  272.47821045],\n",
       "        [ 277.29199219,  277.33847046,  277.35375977, ...,  272.27941895,\n",
       "          272.4704895 ,  272.7432251 ],\n",
       "        ..., \n",
       "        [ 289.22109985,  289.28070068,  289.27587891, ...,  300.08163452,\n",
       "          301.56057739,  301.89996338],\n",
       "        [ 289.32070923,  289.21932983,  288.9382019 , ...,  300.00585938,\n",
       "          301.58093262,  302.41516113],\n",
       "        [ 289.21734619,  288.86428833,  288.61737061, ...,  299.89273071,\n",
       "          301.71636963,  302.53353882]],\n",
       "\n",
       "       [[ 276.96185303,  277.07086182,  277.03182983, ...,  272.1986084 ,\n",
       "          272.21786499,  272.31271362],\n",
       "        [ 277.14953613,  277.22518921,  277.17163086, ...,  272.26559448,\n",
       "          272.32568359,  272.51339722],\n",
       "        [ 277.35125732,  277.36886597,  277.36663818, ...,  272.25152588,\n",
       "          272.47625732,  272.77893066],\n",
       "        ..., \n",
       "        [ 289.19250488,  289.24163818,  289.22442627, ...,  299.02252197,\n",
       "          300.00244141,  300.40179443],\n",
       "        [ 289.27377319,  289.15084839,  288.87280273, ...,  299.46710205,\n",
       "          300.89553833,  301.75939941],\n",
       "        [ 289.15182495,  288.83029175,  288.62765503, ...,  299.30459595,\n",
       "          301.04898071,  301.72994995]],\n",
       "\n",
       "       ..., \n",
       "       [[ 275.22293091,  275.42095947,  275.5760498 , ...,  272.13851929,\n",
       "          272.13751221,  272.11132812],\n",
       "        [ 275.44317627,  275.54550171,  275.69967651, ...,  272.26745605,\n",
       "          272.27154541,  272.38583374],\n",
       "        [ 275.66802979,  275.70672607,  275.86480713, ...,  272.18197632,\n",
       "          272.4190979 ,  272.74188232],\n",
       "        ..., \n",
       "        [ 289.43530273,  289.51046753,  289.47406006, ...,  305.14523315,\n",
       "          305.31842041,  305.1708374 ],\n",
       "        [ 289.64059448,  289.56396484,  289.18157959, ...,  305.29315186,\n",
       "          305.87954712,  306.0413208 ],\n",
       "        [ 289.59872437,  289.03988647,  288.55078125, ...,  305.16357422,\n",
       "          306.15292358,  306.5184021 ]],\n",
       "\n",
       "       [[ 275.17733765,  275.34213257,  275.46594238, ...,  272.10223389,\n",
       "          272.11883545,  272.10494995],\n",
       "        [ 275.375     ,  275.45428467,  275.58007812, ...,  272.22595215,\n",
       "          272.25311279,  272.37438965],\n",
       "        [ 275.57540894,  275.59762573,  275.73724365, ...,  272.14047241,\n",
       "          272.39715576,  272.7286377 ],\n",
       "        ..., \n",
       "        [ 289.4130249 ,  289.47332764,  289.42196655, ...,  303.65786743,\n",
       "          303.81838989,  303.66433716],\n",
       "        [ 289.58828735,  289.51287842,  289.16125488, ...,  303.84500122,\n",
       "          304.43731689,  304.65499878],\n",
       "        [ 289.52862549,  289.05187988,  288.61764526, ...,  303.71472168,\n",
       "          304.6451416 ,  305.11120605]],\n",
       "\n",
       "       [[ 275.13180542,  275.26153564,  275.35733032, ...,  272.06729126,\n",
       "          272.10067749,  272.10083008],\n",
       "        [ 275.30685425,  275.34979248,  275.43521118, ...,  272.19042969,\n",
       "          272.23657227,  272.36505127],\n",
       "        [ 275.4826355 ,  275.45751953,  275.54730225, ...,  272.10855103,\n",
       "          272.3760376 ,  272.71749878],\n",
       "        ..., \n",
       "        [ 289.39077759,  289.43151855,  289.35266113, ...,  302.08737183,\n",
       "          302.31771851,  302.1541748 ],\n",
       "        [ 289.5355835 ,  289.44598389,  289.11257935, ...,  302.35244751,\n",
       "          302.984375  ,  303.25738525],\n",
       "        [ 289.4576416 ,  289.06381226,  288.6875    , ...,  302.27835083,\n",
       "          303.13473511,  303.72470093]]], dtype=float32)"
      ]
     },
     "execution_count": 12,
     "metadata": {},
     "output_type": "execute_result"
    }
   ],
   "source": [
    "# Para ver el arreglo con los valores\n",
    "nc_file.variables['T2'][:]"
   ]
  },
  {
   "cell_type": "markdown",
   "metadata": {},
   "source": [
    "Por ejemplo para las componentes del viento, que toma valores en los bordes de las grillas, podemos ver que toma otras dimensiones"
   ]
  },
  {
   "cell_type": "code",
   "execution_count": 13,
   "metadata": {},
   "outputs": [
    {
     "data": {
      "text/plain": [
       "OrderedDict([(u'FieldType', 104),\n",
       "             (u'MemoryOrder', u'XYZ'),\n",
       "             (u'description', u'x-wind component'),\n",
       "             (u'units', u'm s-1'),\n",
       "             (u'stagger', u'X'),\n",
       "             (u'coordinates', u'XLONG_U XLAT_U XTIME')])"
      ]
     },
     "execution_count": 13,
     "metadata": {},
     "output_type": "execute_result"
    }
   ],
   "source": [
    "# Para listar los atributos de una variable\n",
    "nc_file.variables['U'].__dict__"
   ]
  },
  {
   "cell_type": "code",
   "execution_count": 14,
   "metadata": {},
   "outputs": [
    {
     "data": {
      "text/plain": [
       "(u'Time', u'bottom_top', u'south_north', u'west_east_stag')"
      ]
     },
     "execution_count": 14,
     "metadata": {},
     "output_type": "execute_result"
    }
   ],
   "source": [
    "# Para listar las dimensiones de una variable\n",
    "nc_file.variables['U'].dimensions"
   ]
  },
  {
   "cell_type": "markdown",
   "metadata": {},
   "source": [
    "### 3. wrf-python\n",
    "\n",
    "**wrf-python** es un paquete desarrollado en Python por la NCAR (National Center for Atmospheric Research) que tiene una colección de cálculos diagnosticos y rutinas para interpolar (a niveles horizontales, * cross section *, a nivel de * superficie * ). Además provee funciones auxiliares para facilitar los gráficos con **cartopy** , ** basemap ** y ** PyNGL **\n",
    "\n",
    "A pesar de que toda la interfaz esté en Python, utiliza rutinas definidas en Fortran para trabajar más eficientemente.\n",
    "\n",
    "Algunas funciones útiles:\n",
    "- getvar: extrae una variable o genera una variable diagnóstico nueva.\n",
    "- interplevel: interpolación lineal de una variable a un plano horizontal de un nivel vertival específico.\n",
    "- vertcross: interpola una variable en 3D a una sección transversal\n",
    "- vinterp: Interpola una variable a una nueva superficie\n",
    "- ll_to_xy, xy_to_ll : funciones para convertir un punto de latitud/longitud a (x,y) de la grilla\n",
    "\n",
    "#### 3.1 getvar\n",
    "\n",
    "Esta función se puede usar para extraer variables que ya estan en el NetCDF o generar variables nuevas. También se puede concatenar una variable a través de varios archivos NetCDF.\n",
    "\n",
    "Por defecto extrae la variable para el tiempo 0, en caso de querer la variable para todos los tiempos del archivo hay que agregar timeidx=wrf.ALL_TIMES\n",
    "\n",
    "En caso de tener la librería xarray cargada, la función devuelve la variable cargada con el tipo de DataArray de xarray.\n",
    "\n",
    "Para ver la tabla de todas las posibles variables diagnositcos que se pueden generar: [link](http://wrf-python.readthedocs.io/en/latest/user_api/generated/wrf.getvar.html)\n",
    "\n",
    "*Ejemplo:*\n"
   ]
  },
  {
   "cell_type": "code",
   "execution_count": 15,
   "metadata": {},
   "outputs": [
    {
     "data": {
      "text/plain": [
       "<xarray.DataArray 'T2' (Time: 25, south_north: 169, west_east: 99)>\n",
       "array([[[ 277.009247,  277.088226, ...,  272.399933,  272.482391],\n",
       "        [ 277.137634,  277.1987  , ...,  272.51889 ,  272.57196 ],\n",
       "        ..., \n",
       "        [ 289.362061,  289.273193, ...,  304.13797 ,  305.054626],\n",
       "        [ 289.276215,  288.857483, ...,  303.84198 ,  304.878571]],\n",
       "\n",
       "       [[ 276.927856,  277.033417, ...,  272.219147,  272.299866],\n",
       "        [ 277.105316,  277.204376, ...,  272.326263,  272.47821 ],\n",
       "        ..., \n",
       "        [ 289.320709,  289.21933 , ...,  301.580933,  302.415161],\n",
       "        [ 289.217346,  288.864288, ...,  301.71637 ,  302.533539]],\n",
       "\n",
       "       ..., \n",
       "       [[ 275.177338,  275.342133, ...,  272.118835,  272.10495 ],\n",
       "        [ 275.375   ,  275.454285, ...,  272.253113,  272.37439 ],\n",
       "        ..., \n",
       "        [ 289.588287,  289.512878, ...,  304.437317,  304.654999],\n",
       "        [ 289.528625,  289.05188 , ...,  304.645142,  305.111206]],\n",
       "\n",
       "       [[ 275.131805,  275.261536, ...,  272.100677,  272.10083 ],\n",
       "        [ 275.306854,  275.349792, ...,  272.236572,  272.365051],\n",
       "        ..., \n",
       "        [ 289.535583,  289.445984, ...,  302.984375,  303.257385],\n",
       "        [ 289.457642,  289.063812, ...,  303.134735,  303.724701]]], dtype=float32)\n",
       "Coordinates:\n",
       "    XLONG    (south_north, west_east) float32 -90.1131 -89.608 -89.1008 ...\n",
       "    XLAT     (south_north, west_east) float32 -59.5115 -59.599 -59.6847 ...\n",
       "    XTIME    (Time) float32 0.0 60.0 120.0 180.0 240.0 300.0 360.0 420.0 ...\n",
       "  * Time     (Time) datetime64[ns] 2017-10-26 2017-10-26T01:00:00 ...\n",
       "Dimensions without coordinates: south_north, west_east\n",
       "Attributes:\n",
       "    FieldType:    104\n",
       "    MemoryOrder:  XY \n",
       "    description:  TEMP at 2 M\n",
       "    units:        K\n",
       "    stagger:      \n",
       "    coordinates:  XLONG XLAT XTIME\n",
       "    projection:   LambertConformal(stand_lon=-63.5, moad_cen_lat=-38.50000762..."
      ]
     },
     "execution_count": 15,
     "metadata": {},
     "output_type": "execute_result"
    }
   ],
   "source": [
    "import wrf \n",
    "\n",
    "# Extrae la temperatura a 2 metros del nivel del suelo\n",
    "t2 = wrf.getvar(nc_file, \"T2\", timeidx=wrf.ALL_TIMES)\n",
    "\n",
    "t2"
   ]
  },
  {
   "cell_type": "code",
   "execution_count": 50,
   "metadata": {},
   "outputs": [
    {
     "data": {
      "text/plain": [
       "<xarray.DataArray u'temp' (Time: 25, bottom_top: 34, south_north: 169, west_east: 99)>\n",
       "array([[[[  3.687805, ...,  -0.688599],\n",
       "         ..., \n",
       "         [ 15.823792, ...,  31.738434]],\n",
       "\n",
       "        ..., \n",
       "        [[-54.465256, ..., -73.464691],\n",
       "         ..., \n",
       "         [-67.10672 , ..., -67.872711]]],\n",
       "\n",
       "\n",
       "       ..., \n",
       "       [[[  1.543243, ...,  -0.637573],\n",
       "         ..., \n",
       "         [ 16.032043, ...,  31.939972]],\n",
       "\n",
       "        ..., \n",
       "        [[-52.848572, ..., -73.159805],\n",
       "         ..., \n",
       "         [-67.334   , ..., -66.476334]]]], dtype=float32)\n",
       "Coordinates:\n",
       "    XLONG    (south_north, west_east) float32 -90.1131 -89.608 -89.1008 ...\n",
       "    XLAT     (south_north, west_east) float32 -59.5115 -59.599 -59.6847 ...\n",
       "    XTIME    (Time) float32 0.0 60.0 120.0 180.0 240.0 300.0 360.0 420.0 ...\n",
       "  * Time     (Time) datetime64[ns] 2017-10-26 2017-10-26T01:00:00 ...\n",
       "Dimensions without coordinates: bottom_top, south_north, west_east\n",
       "Attributes:\n",
       "    FieldType:    104\n",
       "    MemoryOrder:  XYZ\n",
       "    description:  temperature\n",
       "    units:        degC\n",
       "    stagger:      \n",
       "    coordinates:  XLONG XLAT XTIME\n",
       "    projection:   LambertConformal(stand_lon=-63.5, moad_cen_lat=-38.50000762..."
      ]
     },
     "execution_count": 50,
     "metadata": {},
     "output_type": "execute_result"
    }
   ],
   "source": [
    "# Altura en km, al desactivar la opción msl (Median Sea Level) se calcula AGL (Above Ground Level)\n",
    "z = wrf.getvar(nc_file, 'z', timeidx=wrf.ALL_TIMES, msl=False, units='km')\n",
    "\n",
    "# Reflectividad simulada\n",
    "temp = wrf.getvar(nc_file, 'temp', timeidx=wrf.ALL_TIMES, units='degC')\n",
    "\n",
    "temp"
   ]
  },
  {
   "cell_type": "markdown",
   "metadata": {},
   "source": [
    "#### 3.2 interplevel\n",
    "\n",
    "Esta función interpola de manera simple y rápida a una altura o nivel de presión específico. Usa  la interpolación lineal, para interpolar con más opciones se puede usar la función ** vinterp **\n",
    "\n",
    "*Ejemplo:*"
   ]
  },
  {
   "cell_type": "code",
   "execution_count": 51,
   "metadata": {},
   "outputs": [
    {
     "data": {
      "text/plain": [
       "<xarray.DataArray u'temp_10_km' (Time: 25, south_north: 169, west_east: 99)>\n",
       "array([[[-55.038158, -55.444103, ..., -65.221306, -65.245781],\n",
       "        [-54.933277, -55.393635, ..., -65.22551 , -65.266136],\n",
       "        ..., \n",
       "        [-35.15493 , -35.2057  , ..., -36.503113, -36.515377],\n",
       "        [-35.080395, -35.131531, ..., -36.290215, -36.372608]],\n",
       "\n",
       "       [[-54.575459, -54.98531 , ..., -65.278419, -65.270645],\n",
       "        [-54.487331, -54.886112, ..., -65.372292, -65.241173],\n",
       "        ..., \n",
       "        [-35.091316, -35.119965, ..., -36.633789, -36.579304],\n",
       "        [-35.022064, -35.054691, ..., -36.350567, -36.422977]],\n",
       "\n",
       "       ..., \n",
       "       [[-47.371788, -47.546852, ..., -67.385475, -67.119682],\n",
       "        [-47.133289, -47.322968, ..., -67.195137, -66.93277 ],\n",
       "        ..., \n",
       "        [-34.55283 , -34.577953, ..., -37.939671, -37.937889],\n",
       "        [-34.454659, -34.463684, ..., -37.655697, -37.758022]],\n",
       "\n",
       "       [[-47.337444, -47.524189, ..., -67.480545, -67.229797],\n",
       "        [-47.056847, -47.254471, ..., -67.28186 , -67.069817],\n",
       "        ..., \n",
       "        [-34.341293, -34.366409, ..., -37.840408, -37.847954],\n",
       "        [-34.255764, -34.268368, ..., -37.580322, -37.660419]]], dtype=float32)\n",
       "Coordinates:\n",
       "    XLONG    (south_north, west_east) float32 -90.1131 -89.608 -89.1008 ...\n",
       "    XLAT     (south_north, west_east) float32 -59.5115 -59.599 -59.6847 ...\n",
       "    XTIME    (Time) float32 0.0 60.0 120.0 180.0 240.0 300.0 360.0 420.0 ...\n",
       "  * Time     (Time) datetime64[ns] 2017-10-26 2017-10-26T01:00:00 ...\n",
       "Dimensions without coordinates: south_north, west_east\n",
       "Attributes:\n",
       "    FieldType:      104\n",
       "    units:          degC\n",
       "    stagger:        \n",
       "    coordinates:    XLONG XLAT XTIME\n",
       "    projection:     LambertConformal(stand_lon=-63.5, moad_cen_lat=-38.500007...\n",
       "    level:          10 km\n",
       "    missing_value:  9.96920996839e+36\n",
       "    _FillValue:     9.96920996839e+36"
      ]
     },
     "execution_count": 51,
     "metadata": {},
     "output_type": "execute_result"
    }
   ],
   "source": [
    "# Interpolación de la reflectividad a 10 km sobre la superficie\n",
    "dbz_10 = wrf.interplevel(dbz,z,10)\n",
    "\n",
    "dbz_10"
   ]
  },
  {
   "cell_type": "markdown",
   "metadata": {},
   "source": [
    "#### 3.3 ll_to_xy, xy_to_ll\n",
    "\n",
    "Esta función sirve para encontrar el par (x,y) de la grilla mas cercano a partir de una latitud y longitud (y viceversa).\n",
    "\n",
    "Una vez teniendo el par (x,y) se pueden obtener los datos de las variables para ese lugar.\n",
    "\n",
    "*Ejemplo:*"
   ]
  },
  {
   "cell_type": "code",
   "execution_count": 52,
   "metadata": {},
   "outputs": [
    {
     "data": {
      "text/plain": [
       "(<xarray.DataArray u'xy' ()>\n",
       " array(46)\n",
       " Coordinates:\n",
       "     latlon_coord  object CoordPair(lat=-31.524, lon=-64.463)\n",
       "     x_y           <U1 u'x', <xarray.DataArray u'xy' ()>\n",
       " array(109)\n",
       " Coordinates:\n",
       "     latlon_coord  object CoordPair(lat=-31.524, lon=-64.463)\n",
       "     x_y           <U1 u'y')"
      ]
     },
     "execution_count": 52,
     "metadata": {},
     "output_type": "execute_result"
    }
   ],
   "source": [
    "# Obtenemos los puntos de la grilla para CONAE\n",
    "lat = -31.524\n",
    "lon = -64.463\n",
    "\n",
    "(x, y) = wrf.ll_to_xy(nc_file, lat, lon)\n",
    "\n",
    "(x, y)"
   ]
  },
  {
   "cell_type": "code",
   "execution_count": 53,
   "metadata": {},
   "outputs": [
    {
     "data": {
      "text/plain": [
       "<xarray.DataArray u'latlon' (lat_lon: 2)>\n",
       "array([-31.626016, -64.457134])\n",
       "Coordinates:\n",
       "  * lat_lon   (lat_lon) <U3 u'lat' u'lon'\n",
       "    xy_coord  object CoordPair(x=46, y=109)"
      ]
     },
     "execution_count": 53,
     "metadata": {},
     "output_type": "execute_result"
    }
   ],
   "source": [
    "# Vemos cual es la latitud y longitud exactas que representa ese par (x, y)\n",
    "wrf.xy_to_ll(nc_file, x, y)"
   ]
  },
  {
   "cell_type": "code",
   "execution_count": 54,
   "metadata": {},
   "outputs": [
    {
     "data": {
      "text/plain": [
       "<xarray.DataArray 'T2' (Time: 25)>\n",
       "array([ 291.758972,  289.751617,  289.434021,  289.256409,  289.197388,\n",
       "        290.335663,  290.148285,  288.770142,  288.397552,  288.307648,\n",
       "        288.26358 ,  290.179474,  291.391846,  293.708984,  294.565308,\n",
       "        294.934998,  296.092499,  296.751617,  297.311066,  295.188629,\n",
       "        293.687622,  292.103333,  290.11264 ,  290.751801,  290.840485], dtype=float32)\n",
       "Coordinates:\n",
       "    XLONG         float32 -64.4572\n",
       "    XLAT          float32 -31.626\n",
       "    XTIME         (Time) float32 0.0 60.0 120.0 180.0 240.0 300.0 360.0 ...\n",
       "  * Time          (Time) datetime64[ns] 2017-10-26 2017-10-26T01:00:00 ...\n",
       "    latlon_coord  object CoordPair(lat=-31.524, lon=-64.463)\n",
       "Attributes:\n",
       "    FieldType:    104\n",
       "    MemoryOrder:  XY \n",
       "    description:  TEMP at 2 M\n",
       "    units:        K\n",
       "    stagger:      \n",
       "    coordinates:  XLONG XLAT XTIME\n",
       "    projection:   LambertConformal(stand_lon=-63.5, moad_cen_lat=-38.50000762..."
      ]
     },
     "execution_count": 54,
     "metadata": {},
     "output_type": "execute_result"
    }
   ],
   "source": [
    "# El 'x' es el valor en la coordenada de oeste a este, y el 'y' el valor de la coordenada sur a norte\n",
    "\n",
    "t2_conae = t2[:, y, x]\n",
    "\n",
    "t2_conae"
   ]
  },
  {
   "cell_type": "code",
   "execution_count": 55,
   "metadata": {
    "scrolled": true
   },
   "outputs": [
    {
     "data": {
      "text/plain": [
       "Time\n",
       "2017-10-26 00:00:00    291.758972\n",
       "2017-10-26 01:00:00    289.751617\n",
       "2017-10-26 02:00:00    289.434021\n",
       "2017-10-26 03:00:00    289.256409\n",
       "2017-10-26 04:00:00    289.197388\n",
       "2017-10-26 05:00:00    290.335663\n",
       "2017-10-26 06:00:00    290.148285\n",
       "2017-10-26 07:00:00    288.770142\n",
       "2017-10-26 08:00:00    288.397552\n",
       "2017-10-26 09:00:00    288.307648\n",
       "2017-10-26 10:00:00    288.263580\n",
       "2017-10-26 11:00:00    290.179474\n",
       "2017-10-26 12:00:00    291.391846\n",
       "2017-10-26 13:00:00    293.708984\n",
       "2017-10-26 14:00:00    294.565308\n",
       "2017-10-26 15:00:00    294.934998\n",
       "2017-10-26 16:00:00    296.092499\n",
       "2017-10-26 17:00:00    296.751617\n",
       "2017-10-26 18:00:00    297.311066\n",
       "2017-10-26 19:00:00    295.188629\n",
       "2017-10-26 20:00:00    293.687622\n",
       "2017-10-26 21:00:00    292.103333\n",
       "2017-10-26 22:00:00    290.112640\n",
       "2017-10-26 23:00:00    290.751801\n",
       "2017-10-27 00:00:00    290.840485\n",
       "dtype: float32"
      ]
     },
     "execution_count": 55,
     "metadata": {},
     "output_type": "execute_result"
    }
   ],
   "source": [
    "t2_conae.to_pandas()"
   ]
  },
  {
   "cell_type": "code",
   "execution_count": 56,
   "metadata": {
    "scrolled": true
   },
   "outputs": [
    {
     "data": {
      "text/html": [
       "<div>\n",
       "<style scoped>\n",
       "    .dataframe tbody tr th:only-of-type {\n",
       "        vertical-align: middle;\n",
       "    }\n",
       "\n",
       "    .dataframe tbody tr th {\n",
       "        vertical-align: top;\n",
       "    }\n",
       "\n",
       "    .dataframe thead th {\n",
       "        text-align: right;\n",
       "    }\n",
       "</style>\n",
       "<table border=\"1\" class=\"dataframe\">\n",
       "  <thead>\n",
       "    <tr style=\"text-align: right;\">\n",
       "      <th></th>\n",
       "      <th>T2</th>\n",
       "    </tr>\n",
       "    <tr>\n",
       "      <th>Time</th>\n",
       "      <th></th>\n",
       "    </tr>\n",
       "  </thead>\n",
       "  <tbody>\n",
       "    <tr>\n",
       "      <th>2017-10-26 00:00:00</th>\n",
       "      <td>291.758972</td>\n",
       "    </tr>\n",
       "    <tr>\n",
       "      <th>2017-10-26 01:00:00</th>\n",
       "      <td>289.751617</td>\n",
       "    </tr>\n",
       "    <tr>\n",
       "      <th>2017-10-26 02:00:00</th>\n",
       "      <td>289.434021</td>\n",
       "    </tr>\n",
       "    <tr>\n",
       "      <th>2017-10-26 03:00:00</th>\n",
       "      <td>289.256409</td>\n",
       "    </tr>\n",
       "    <tr>\n",
       "      <th>2017-10-26 04:00:00</th>\n",
       "      <td>289.197388</td>\n",
       "    </tr>\n",
       "    <tr>\n",
       "      <th>2017-10-26 05:00:00</th>\n",
       "      <td>290.335663</td>\n",
       "    </tr>\n",
       "    <tr>\n",
       "      <th>2017-10-26 06:00:00</th>\n",
       "      <td>290.148285</td>\n",
       "    </tr>\n",
       "    <tr>\n",
       "      <th>2017-10-26 07:00:00</th>\n",
       "      <td>288.770142</td>\n",
       "    </tr>\n",
       "    <tr>\n",
       "      <th>2017-10-26 08:00:00</th>\n",
       "      <td>288.397552</td>\n",
       "    </tr>\n",
       "    <tr>\n",
       "      <th>2017-10-26 09:00:00</th>\n",
       "      <td>288.307648</td>\n",
       "    </tr>\n",
       "    <tr>\n",
       "      <th>2017-10-26 10:00:00</th>\n",
       "      <td>288.263580</td>\n",
       "    </tr>\n",
       "    <tr>\n",
       "      <th>2017-10-26 11:00:00</th>\n",
       "      <td>290.179474</td>\n",
       "    </tr>\n",
       "    <tr>\n",
       "      <th>2017-10-26 12:00:00</th>\n",
       "      <td>291.391846</td>\n",
       "    </tr>\n",
       "    <tr>\n",
       "      <th>2017-10-26 13:00:00</th>\n",
       "      <td>293.708984</td>\n",
       "    </tr>\n",
       "    <tr>\n",
       "      <th>2017-10-26 14:00:00</th>\n",
       "      <td>294.565308</td>\n",
       "    </tr>\n",
       "    <tr>\n",
       "      <th>2017-10-26 15:00:00</th>\n",
       "      <td>294.934998</td>\n",
       "    </tr>\n",
       "    <tr>\n",
       "      <th>2017-10-26 16:00:00</th>\n",
       "      <td>296.092499</td>\n",
       "    </tr>\n",
       "    <tr>\n",
       "      <th>2017-10-26 17:00:00</th>\n",
       "      <td>296.751617</td>\n",
       "    </tr>\n",
       "    <tr>\n",
       "      <th>2017-10-26 18:00:00</th>\n",
       "      <td>297.311066</td>\n",
       "    </tr>\n",
       "    <tr>\n",
       "      <th>2017-10-26 19:00:00</th>\n",
       "      <td>295.188629</td>\n",
       "    </tr>\n",
       "    <tr>\n",
       "      <th>2017-10-26 20:00:00</th>\n",
       "      <td>293.687622</td>\n",
       "    </tr>\n",
       "    <tr>\n",
       "      <th>2017-10-26 21:00:00</th>\n",
       "      <td>292.103333</td>\n",
       "    </tr>\n",
       "    <tr>\n",
       "      <th>2017-10-26 22:00:00</th>\n",
       "      <td>290.112640</td>\n",
       "    </tr>\n",
       "    <tr>\n",
       "      <th>2017-10-26 23:00:00</th>\n",
       "      <td>290.751801</td>\n",
       "    </tr>\n",
       "    <tr>\n",
       "      <th>2017-10-27 00:00:00</th>\n",
       "      <td>290.840485</td>\n",
       "    </tr>\n",
       "  </tbody>\n",
       "</table>\n",
       "</div>"
      ],
      "text/plain": [
       "                             T2\n",
       "Time                           \n",
       "2017-10-26 00:00:00  291.758972\n",
       "2017-10-26 01:00:00  289.751617\n",
       "2017-10-26 02:00:00  289.434021\n",
       "2017-10-26 03:00:00  289.256409\n",
       "2017-10-26 04:00:00  289.197388\n",
       "2017-10-26 05:00:00  290.335663\n",
       "2017-10-26 06:00:00  290.148285\n",
       "2017-10-26 07:00:00  288.770142\n",
       "2017-10-26 08:00:00  288.397552\n",
       "2017-10-26 09:00:00  288.307648\n",
       "2017-10-26 10:00:00  288.263580\n",
       "2017-10-26 11:00:00  290.179474\n",
       "2017-10-26 12:00:00  291.391846\n",
       "2017-10-26 13:00:00  293.708984\n",
       "2017-10-26 14:00:00  294.565308\n",
       "2017-10-26 15:00:00  294.934998\n",
       "2017-10-26 16:00:00  296.092499\n",
       "2017-10-26 17:00:00  296.751617\n",
       "2017-10-26 18:00:00  297.311066\n",
       "2017-10-26 19:00:00  295.188629\n",
       "2017-10-26 20:00:00  293.687622\n",
       "2017-10-26 21:00:00  292.103333\n",
       "2017-10-26 22:00:00  290.112640\n",
       "2017-10-26 23:00:00  290.751801\n",
       "2017-10-27 00:00:00  290.840485"
      ]
     },
     "execution_count": 56,
     "metadata": {},
     "output_type": "execute_result"
    }
   ],
   "source": [
    "df = pd.DataFrame(t2_conae.to_pandas(), columns=['T2'])\n",
    "\n",
    "df"
   ]
  },
  {
   "cell_type": "code",
   "execution_count": 57,
   "metadata": {
    "scrolled": true
   },
   "outputs": [
    {
     "data": {
      "text/html": [
       "<div>\n",
       "<style scoped>\n",
       "    .dataframe tbody tr th:only-of-type {\n",
       "        vertical-align: middle;\n",
       "    }\n",
       "\n",
       "    .dataframe tbody tr th {\n",
       "        vertical-align: top;\n",
       "    }\n",
       "\n",
       "    .dataframe thead th {\n",
       "        text-align: right;\n",
       "    }\n",
       "</style>\n",
       "<table border=\"1\" class=\"dataframe\">\n",
       "  <thead>\n",
       "    <tr style=\"text-align: right;\">\n",
       "      <th></th>\n",
       "      <th>T2</th>\n",
       "      <th>T2_degC</th>\n",
       "    </tr>\n",
       "    <tr>\n",
       "      <th>Time</th>\n",
       "      <th></th>\n",
       "      <th></th>\n",
       "    </tr>\n",
       "  </thead>\n",
       "  <tbody>\n",
       "    <tr>\n",
       "      <th>2017-10-26 00:00:00</th>\n",
       "      <td>291.758972</td>\n",
       "      <td>18.608978</td>\n",
       "    </tr>\n",
       "    <tr>\n",
       "      <th>2017-10-26 01:00:00</th>\n",
       "      <td>289.751617</td>\n",
       "      <td>16.601624</td>\n",
       "    </tr>\n",
       "    <tr>\n",
       "      <th>2017-10-26 02:00:00</th>\n",
       "      <td>289.434021</td>\n",
       "      <td>16.284027</td>\n",
       "    </tr>\n",
       "    <tr>\n",
       "      <th>2017-10-26 03:00:00</th>\n",
       "      <td>289.256409</td>\n",
       "      <td>16.106415</td>\n",
       "    </tr>\n",
       "    <tr>\n",
       "      <th>2017-10-26 04:00:00</th>\n",
       "      <td>289.197388</td>\n",
       "      <td>16.047394</td>\n",
       "    </tr>\n",
       "    <tr>\n",
       "      <th>2017-10-26 05:00:00</th>\n",
       "      <td>290.335663</td>\n",
       "      <td>17.185669</td>\n",
       "    </tr>\n",
       "    <tr>\n",
       "      <th>2017-10-26 06:00:00</th>\n",
       "      <td>290.148285</td>\n",
       "      <td>16.998291</td>\n",
       "    </tr>\n",
       "    <tr>\n",
       "      <th>2017-10-26 07:00:00</th>\n",
       "      <td>288.770142</td>\n",
       "      <td>15.620148</td>\n",
       "    </tr>\n",
       "    <tr>\n",
       "      <th>2017-10-26 08:00:00</th>\n",
       "      <td>288.397552</td>\n",
       "      <td>15.247559</td>\n",
       "    </tr>\n",
       "    <tr>\n",
       "      <th>2017-10-26 09:00:00</th>\n",
       "      <td>288.307648</td>\n",
       "      <td>15.157654</td>\n",
       "    </tr>\n",
       "    <tr>\n",
       "      <th>2017-10-26 10:00:00</th>\n",
       "      <td>288.263580</td>\n",
       "      <td>15.113586</td>\n",
       "    </tr>\n",
       "    <tr>\n",
       "      <th>2017-10-26 11:00:00</th>\n",
       "      <td>290.179474</td>\n",
       "      <td>17.029480</td>\n",
       "    </tr>\n",
       "    <tr>\n",
       "      <th>2017-10-26 12:00:00</th>\n",
       "      <td>291.391846</td>\n",
       "      <td>18.241852</td>\n",
       "    </tr>\n",
       "    <tr>\n",
       "      <th>2017-10-26 13:00:00</th>\n",
       "      <td>293.708984</td>\n",
       "      <td>20.558990</td>\n",
       "    </tr>\n",
       "    <tr>\n",
       "      <th>2017-10-26 14:00:00</th>\n",
       "      <td>294.565308</td>\n",
       "      <td>21.415314</td>\n",
       "    </tr>\n",
       "    <tr>\n",
       "      <th>2017-10-26 15:00:00</th>\n",
       "      <td>294.934998</td>\n",
       "      <td>21.785004</td>\n",
       "    </tr>\n",
       "    <tr>\n",
       "      <th>2017-10-26 16:00:00</th>\n",
       "      <td>296.092499</td>\n",
       "      <td>22.942505</td>\n",
       "    </tr>\n",
       "    <tr>\n",
       "      <th>2017-10-26 17:00:00</th>\n",
       "      <td>296.751617</td>\n",
       "      <td>23.601624</td>\n",
       "    </tr>\n",
       "    <tr>\n",
       "      <th>2017-10-26 18:00:00</th>\n",
       "      <td>297.311066</td>\n",
       "      <td>24.161072</td>\n",
       "    </tr>\n",
       "    <tr>\n",
       "      <th>2017-10-26 19:00:00</th>\n",
       "      <td>295.188629</td>\n",
       "      <td>22.038635</td>\n",
       "    </tr>\n",
       "    <tr>\n",
       "      <th>2017-10-26 20:00:00</th>\n",
       "      <td>293.687622</td>\n",
       "      <td>20.537628</td>\n",
       "    </tr>\n",
       "    <tr>\n",
       "      <th>2017-10-26 21:00:00</th>\n",
       "      <td>292.103333</td>\n",
       "      <td>18.953339</td>\n",
       "    </tr>\n",
       "    <tr>\n",
       "      <th>2017-10-26 22:00:00</th>\n",
       "      <td>290.112640</td>\n",
       "      <td>16.962646</td>\n",
       "    </tr>\n",
       "    <tr>\n",
       "      <th>2017-10-26 23:00:00</th>\n",
       "      <td>290.751801</td>\n",
       "      <td>17.601807</td>\n",
       "    </tr>\n",
       "    <tr>\n",
       "      <th>2017-10-27 00:00:00</th>\n",
       "      <td>290.840485</td>\n",
       "      <td>17.690491</td>\n",
       "    </tr>\n",
       "  </tbody>\n",
       "</table>\n",
       "</div>"
      ],
      "text/plain": [
       "                             T2    T2_degC\n",
       "Time                                      \n",
       "2017-10-26 00:00:00  291.758972  18.608978\n",
       "2017-10-26 01:00:00  289.751617  16.601624\n",
       "2017-10-26 02:00:00  289.434021  16.284027\n",
       "2017-10-26 03:00:00  289.256409  16.106415\n",
       "2017-10-26 04:00:00  289.197388  16.047394\n",
       "2017-10-26 05:00:00  290.335663  17.185669\n",
       "2017-10-26 06:00:00  290.148285  16.998291\n",
       "2017-10-26 07:00:00  288.770142  15.620148\n",
       "2017-10-26 08:00:00  288.397552  15.247559\n",
       "2017-10-26 09:00:00  288.307648  15.157654\n",
       "2017-10-26 10:00:00  288.263580  15.113586\n",
       "2017-10-26 11:00:00  290.179474  17.029480\n",
       "2017-10-26 12:00:00  291.391846  18.241852\n",
       "2017-10-26 13:00:00  293.708984  20.558990\n",
       "2017-10-26 14:00:00  294.565308  21.415314\n",
       "2017-10-26 15:00:00  294.934998  21.785004\n",
       "2017-10-26 16:00:00  296.092499  22.942505\n",
       "2017-10-26 17:00:00  296.751617  23.601624\n",
       "2017-10-26 18:00:00  297.311066  24.161072\n",
       "2017-10-26 19:00:00  295.188629  22.038635\n",
       "2017-10-26 20:00:00  293.687622  20.537628\n",
       "2017-10-26 21:00:00  292.103333  18.953339\n",
       "2017-10-26 22:00:00  290.112640  16.962646\n",
       "2017-10-26 23:00:00  290.751801  17.601807\n",
       "2017-10-27 00:00:00  290.840485  17.690491"
      ]
     },
     "execution_count": 57,
     "metadata": {},
     "output_type": "execute_result"
    }
   ],
   "source": [
    "# Agregar columna con la temperatura en grados celsius\n",
    "df['T2_degC'] = df['T2'] - 273.15\n",
    "\n",
    "df"
   ]
  },
  {
   "cell_type": "code",
   "execution_count": 58,
   "metadata": {},
   "outputs": [
    {
     "name": "stdout",
     "output_type": "stream",
     "text": [
      "Máxima 24.1611\n",
      "Mínima 15.1136\n",
      "Media 18.4996700287\n"
     ]
    }
   ],
   "source": [
    "# Temperatura máxima del período de simulación\n",
    "print \"Máxima\", df['T2_degC'].max()\n",
    "\n",
    "# Temperatura mínima del período de simulación\n",
    "print \"Mínima\", df['T2_degC'].min()\n",
    "\n",
    "# Temperatura media del período de simulación\n",
    "print \"Media\", df['T2_degC'].mean()"
   ]
  },
  {
   "cell_type": "markdown",
   "metadata": {},
   "source": [
    "### 4.  Librerías para graficar\n",
    "\n",
    "\n",
    "#### Matplotlib\n",
    "\n",
    "Es la principal librería para trabajar con gráficos en Python. \n",
    "\n",
    "Galeria con ejemplos:\n",
    "\n",
    "http://matplotlib.org/gallery\n",
    "\n",
    "La librería * pandas * trae una integración con matplotlib para graficar rápidamente "
   ]
  },
  {
   "cell_type": "code",
   "execution_count": 59,
   "metadata": {},
   "outputs": [
    {
     "data": {
      "image/png": "[encoded data removed]",
      "text/plain": [
       "<matplotlib.figure.Figure at 0x7ff18169f250>"
      ]
     },
     "metadata": {},
     "output_type": "display_data"
    }
   ],
   "source": [
    "%matplotlib inline \n",
    "\n",
    "from matplotlib import pyplot as plt\n",
    "\n",
    "# Creamos la figura\n",
    "plt.figure(figsize=(10,10))\n",
    "\n",
    "df['T2_degC'].plot()\n",
    "\n",
    "plt.title('Temperatura a 2m del suelo en CONAE')\n",
    "\n",
    "plt.show()"
   ]
  },
  {
   "cell_type": "markdown",
   "metadata": {},
   "source": [
    "#### Basemap\n",
    "\n",
    "Basemap es una librería para graficar información en 2D sobre mapas. Tiene varias proyecciones de mapas e información vectorial cargada (como limites políticos, cuerpos de agua, límites continentales, etc.)\n",
    "\n",
    "**wrf-python** trae varias funciones auxiliares para facilitar la carga de datos a basemap. Por ejemplo con **get_basemap** cargamos el mapa del dominio, con **latlon_coords** cargamos las variables latitud y longitud.\n"
   ]
  },
  {
   "cell_type": "markdown",
   "metadata": {},
   "source": [
    "### 5.  Ejemplos"
   ]
  },
  {
   "cell_type": "code",
   "execution_count": 60,
   "metadata": {},
   "outputs": [
    {
     "data": {
      "image/png": "[encoded data removed]",
      "text/plain": [
       "<matplotlib.figure.Figure at 0x7ff181acc090>"
      ]
     },
     "metadata": {},
     "output_type": "display_data"
    }
   ],
   "source": [
    "from mpl_toolkits.basemap import Basemap\n",
    "from matplotlib.cm import get_cmap\n",
    "\n",
    "t2_degC = t2.copy()\n",
    "t2_degC.values = t2.values - 273.15\n",
    "\n",
    "# Nos quedamos con las latitudes y longitudes\n",
    "lats, lons = wrf.latlon_coords(t2_degC)\n",
    "\n",
    "# Creamos el basemap\n",
    "bm = wrf.get_basemap(t2_degC)\n",
    "\n",
    "# Creamos la figura\n",
    "plt.figure(figsize=(12,12))\n",
    "\n",
    "# Se agregan los vectores de datos geográficos\n",
    "bm.drawcoastlines(linewidth=0.25)\n",
    "bm.drawstates(linewidth=0.25)\n",
    "bm.drawcountries(linewidth=1)\n",
    "\n",
    "# Definimos la grilla x, y para graficar \n",
    "x, y = bm(wrf.to_np(lons), wrf.to_np(lats))\n",
    "\n",
    "# Se grafica la variable\n",
    "bm.contourf(x, y, t2_degC[8], 10, cmap=get_cmap(\"jet\"))\n",
    "\n",
    "# Se agrega la escala de colores\n",
    "plt.colorbar()\n",
    "\n",
    "plt.title(\"Temperatura a 2m a las 14hs del 29/11/2017\")\n",
    "\n",
    "plt.show()"
   ]
  },
  {
   "cell_type": "code",
   "execution_count": 61,
   "metadata": {},
   "outputs": [
    {
     "data": {
      "image/png": "[encoded data removed]",
      "text/plain": [
       "<matplotlib.figure.Figure at 0x7ff183bd16d0>"
      ]
     },
     "metadata": {},
     "output_type": "display_data"
    }
   ],
   "source": [
    "from mpl_toolkits.basemap import Basemap\n",
    "from matplotlib.cm import get_cmap\n",
    "\n",
    "# Creamos la figura\n",
    "plt.figure(figsize=(12,12))\n",
    "\n",
    "# Se agregan los vectores de datos geográficos\n",
    "bm.drawcoastlines(linewidth=0.25)\n",
    "bm.drawstates(linewidth=0.25)\n",
    "bm.drawcountries(linewidth=1)\n",
    "\n",
    "# Se grafica la variable\n",
    "bm.contourf(x, y, dbz_10[8], 10, cmap=get_cmap(\"jet\"))\n",
    "\n",
    "# Se agrega la escala de colores\n",
    "plt.colorbar()\n",
    "\n",
    "plt.title(\"Reflectividad a 10km de altura sobre la superficie a las 14hs del 29/11/2017\")\n",
    "\n",
    "plt.show()"
   ]
  },
  {
   "cell_type": "markdown",
   "metadata": {},
   "source": [
    "Para ver más ejemplos en la documentación de wrf-python:\n",
    "http://wrf-python.readthedocs.io/en/latest/plot.html"
   ]
  }
 ],
 "metadata": {
  "kernelspec": {
   "display_name": "Python 2",
   "language": "python",
   "name": "python2"
  },
  "language_info": {
   "codemirror_mode": {
    "name": "ipython",
    "version": 2
   },
   "file_extension": ".py",
   "mimetype": "text/x-python",
   "name": "python",
   "nbconvert_exporter": "python",
   "pygments_lexer": "ipython2",
   "version": "2.7.14"
  }
 },
 "nbformat": 4,
 "nbformat_minor": 1
}
